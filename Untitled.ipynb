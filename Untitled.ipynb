{
 "cells": [
  {
   "cell_type": "code",
   "execution_count": 5,
   "metadata": {},
   "outputs": [],
   "source": [
    "import tensorflow.keras as keras\n",
    "import tensorflow.keras.layers as layers\n",
    "import tensorflow as tf\n",
    "\n",
    "model = keras.Sequential(\n",
    "    [\n",
    "        layers.Dense(2, activation=\"relu\"),  #4*2 + 2\n",
    "        layers.Dense(3, activation=\"relu\"), # 2*3 + 3  \n",
    "        layers.Dense(4),  # 3*4 + 4\n",
    "    ]\n",
    ") "
   ]
  },
  {
   "cell_type": "code",
   "execution_count": 13,
   "metadata": {},
   "outputs": [
    {
     "name": "stdout",
     "output_type": "stream",
     "text": [
      "<tf.Variable 'sequential_1/dense_5/kernel:0' shape=(3, 4) dtype=float32, numpy=\n",
      "array([[-0.23300636,  0.2203083 ,  0.484563  ,  0.22639692],\n",
      "       [-0.27414078, -0.7533466 ,  0.4092151 ,  0.40760458],\n",
      "       [ 0.05937707, -0.47219452,  0.7973608 ,  0.45725286]],\n",
      "      dtype=float32)>\n"
     ]
    }
   ],
   "source": [
    "x = tf.ones((1, 4))\n",
    "\n",
    "y = model(x)\n",
    "\n",
    "#print(model.weights)\n",
    "\n",
    "print(model.weights[4])"
   ]
  },
  {
   "cell_type": "code",
   "execution_count": 14,
   "metadata": {},
   "outputs": [
    {
     "name": "stdout",
     "output_type": "stream",
     "text": [
      "Model: \"sequential_1\"\n",
      "_________________________________________________________________\n",
      "Layer (type)                 Output Shape              Param #   \n",
      "=================================================================\n",
      "dense_3 (Dense)              multiple                  10        \n",
      "_________________________________________________________________\n",
      "dense_4 (Dense)              multiple                  9         \n",
      "_________________________________________________________________\n",
      "dense_5 (Dense)              multiple                  16        \n",
      "=================================================================\n",
      "Total params: 35\n",
      "Trainable params: 35\n",
      "Non-trainable params: 0\n",
      "_________________________________________________________________\n"
     ]
    }
   ],
   "source": [
    "model.summary()"
   ]
  },
  {
   "cell_type": "code",
   "execution_count": null,
   "metadata": {},
   "outputs": [],
   "source": []
  }
 ],
 "metadata": {
  "kernelspec": {
   "display_name": "Python (tf2env)",
   "language": "python",
   "name": "tf2env"
  },
  "language_info": {
   "codemirror_mode": {
    "name": "ipython",
    "version": 3
   },
   "file_extension": ".py",
   "mimetype": "text/x-python",
   "name": "python",
   "nbconvert_exporter": "python",
   "pygments_lexer": "ipython3",
   "version": "3.7.5"
  }
 },
 "nbformat": 4,
 "nbformat_minor": 4
}
